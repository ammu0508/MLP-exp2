{
  "nbformat": 4,
  "nbformat_minor": 0,
  "metadata": {
    "colab": {
      "provenance": []
    },
    "kernelspec": {
      "name": "python3",
      "display_name": "Python 3"
    },
    "language_info": {
      "name": "python"
    }
  },
  "cells": [
    {
      "cell_type": "code",
      "execution_count": 1,
      "metadata": {
        "colab": {
          "base_uri": "https://localhost:8080/"
        },
        "id": "JPGPfo2x36Cv",
        "outputId": "426184d8-0b9a-4eac-dfb7-3505e55cbfa7"
      },
      "outputs": [
        {
          "output_type": "stream",
          "name": "stdout",
          "text": [
            "Minimum element: 1\n",
            "Maximum element: 9\n",
            "Trace: 15\n",
            "Rank: 2\n",
            "Eigenvalues: [ 1.61168440e+01 -1.11684397e+00 -1.30367773e-15]\n",
            "Eigenvectors: [[-0.23197069 -0.78583024  0.40824829]\n",
            " [-0.52532209 -0.08675134 -0.81649658]\n",
            " [-0.8186735   0.61232756  0.40824829]]\n"
          ]
        }
      ],
      "source": [
        "import numpy as np\n",
        "def matrix_operations(matrix):\n",
        "  min_element = np.min(matrix)\n",
        "  max_element = np.max(matrix)\n",
        "  print(\"Minimum element:\", min_element)\n",
        "  print(\"Maximum element:\", max_element)\n",
        "  trace = np.trace(matrix)\n",
        "  print(\"Trace:\", trace)\n",
        "  rank = np.linalg.matrix_rank(matrix)\n",
        "  print(\"Rank:\", rank)\n",
        "  eigenvalues, eigenvectors = np.linalg.eig(matrix)\n",
        "  print(\"Eigenvalues:\", eigenvalues)\n",
        "  print(\"Eigenvectors:\", eigenvectors)\n",
        "matrix = np.array([[1, 2, 3], [4, 5, 6], [7, 8, 9]])\n",
        "matrix_operations(matrix)"
      ]
    }
  ]
}