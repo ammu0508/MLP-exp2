{
  "nbformat": 4,
  "nbformat_minor": 0,
  "metadata": {
    "colab": {
      "provenance": []
    },
    "kernelspec": {
      "name": "python3",
      "display_name": "Python 3"
    },
    "language_info": {
      "name": "python"
    }
  },
  "cells": [
    {
      "cell_type": "code",
      "execution_count": 2,
      "metadata": {
        "colab": {
          "base_uri": "https://localhost:8080/"
        },
        "id": "s9UIk0fj4a9F",
        "outputId": "4e6a9633-ce3e-4125-eb2e-a72dea6daf4f"
      },
      "outputs": [
        {
          "output_type": "stream",
          "name": "stdout",
          "text": [
            "[15, 25, 36, 26, 26, 26, 21, 8, 3, 5, 12, 21]\n",
            "Mean of the array: 18.666666666666668\n",
            "Median of the array: 21.0\n",
            "Mode of the array: 26\n",
            "Standard deviation of the array: 9.646530752325187\n"
          ]
        }
      ],
      "source": [
        "#MEAN\n",
        "def mean_vec(arr):\n",
        "   avg=sum(arr)/len(arr)\n",
        "   return avg\n",
        "#MEDIAN\n",
        "def med_vec(arr):\n",
        "  if(len(arr)%2==0):\n",
        "    return (sorted(arr)[(len(arr)//2)-1]/2)+(sorted(arr)[len(arr)//2]/2)\n",
        "  return sorted(arr)[len(arr)//2]\n",
        "#MODE\n",
        "def mode_arr(arr):\n",
        "    max_count = 0\n",
        "    mode = 0\n",
        "    for i in arr:\n",
        "        if arr.count(i) > max_count:\n",
        "              max_count = arr.count(i)\n",
        "              mode = i\n",
        "    return mode\n",
        "#STANDARD DEVIATION\n",
        "def standarddev_vec(arr):\n",
        "           avg=sum(arr)/len(arr)\n",
        "           var=sum([((x-avg)**2) for x in arr ])/ len(arr)\n",
        "           return var**(1/2)\n",
        "arr=[15,25,36,26,26,26,21,8,3,5,12,21]\n",
        "print(arr)\n",
        "print(\"Mean of the array:\",mean_vec(arr))\n",
        "print(\"Median of the array:\",med_vec(arr))\n",
        "print(\"Mode of the array:\",mode_arr(arr))\n",
        "print(\"Standard deviation of the array:\",standarddev_vec(arr))"
      ]
    }
  ]
}